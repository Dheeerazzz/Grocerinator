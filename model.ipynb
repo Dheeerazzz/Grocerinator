{
 "cells": [
  {
   "cell_type": "code",
   "execution_count": 22,
   "metadata": {},
   "outputs": [],
   "source": [
    "import pandas as pd\n",
    "from sklearn.ensemble import RandomForestRegressor\n",
    "from sklearn.model_selection import train_test_split\n"
   ]
  },
  {
   "cell_type": "code",
   "execution_count": 23,
   "metadata": {},
   "outputs": [
    {
     "name": "stdout",
     "output_type": "stream",
     "text": [
      "Index(['User ID', 'Age', 'Diseases', 'Allergies', 'Product ID', 'Name',\n",
      "       'Brand', 'Ingredients', 'Health Benefits', 'Potential Risks',\n",
      "       'Recommendation Score'],\n",
      "      dtype='object')\n"
     ]
    }
   ],
   "source": [
    "data = pd.read_csv(\"sample_data.csv\")  # Replace with your actual CSV file name\n",
    "print(data.columns)"
   ]
  },
  {
   "cell_type": "code",
   "execution_count": 39,
   "metadata": {},
   "outputs": [],
   "source": [
    "import pandas as pd\n",
    "from sklearn.model_selection import train_test_split\n",
    "from sklearn.ensemble import RandomForestClassifier\n",
    "from sklearn.metrics import accuracy_score\n",
    "from sklearn.preprocessing import MultiLabelBinarizer\n",
    "\n",
    "# Load data\n",
    "data = pd.read_csv('sample_data.csv')\n",
    "\n",
    "# Preprocessing\n",
    "for column in ['Diseases', 'Allergies']:\n",
    "    # Split the string on the comma to create a list of items\n",
    "    data[column] = data[column].apply(lambda x: x.split(', ') if pd.notna(x) else [])\n",
    "\n",
    "    # Use MultiLabelBinarizer to convert the list into a binary matrix\n",
    "    mlb = MultiLabelBinarizer()\n",
    "    expandedLabelData = mlb.fit_transform(data[column])\n",
    "    labelClasses = mlb.classes_\n",
    "\n",
    "    # Create a pandas DataFrame from our numpy array\n",
    "    expandedLabels = pd.DataFrame(expandedLabelData, columns=labelClasses)\n",
    "\n",
    "    # Concatenate the original DataFrame and the new one\n",
    "    data = pd.concat([data, expandedLabels], axis=1)\n",
    "\n",
    "# Continue with the rest of the steps as before"
   ]
  },
  {
   "cell_type": "code",
   "execution_count": 52,
   "metadata": {},
   "outputs": [],
   "source": [
    "# Convert list-like structures to strings\n",
    "for column in data.columns:\n",
    "    data[column] = data[column].astype(str)\n",
    "\n",
    "# Now you can use get_dummies\n",
    "data_encoded = pd.get_dummies(data)"
   ]
  },
  {
   "cell_type": "code",
   "execution_count": 53,
   "metadata": {},
   "outputs": [],
   "source": [
    "Y=data['target']\n",
    "x=data_encoded\n",
    "X_train, X_test, y_train, y_test = train_test_split(X, y, test_size=0.2, random_state=42)"
   ]
  },
  {
   "cell_type": "code",
   "execution_count": 59,
   "metadata": {},
   "outputs": [
    {
     "name": "stdout",
     "output_type": "stream",
     "text": [
      "Model accuracy: 0.0\n"
     ]
    }
   ],
   "source": [
    "from sklearn.ensemble import RandomForestClassifier\n",
    "from sklearn.metrics import accuracy_score\n",
    "\n",
    "# Get the union of all columns in training and test set\n",
    "all_columns = pd.concat([X_train, X_test]).columns\n",
    "\n",
    "# Apply get_dummies and reindex with all_columns to ensure the same columns in both dataframes\n",
    "X_train_encoded = pd.get_dummies(X_train).reindex(columns=all_columns, fill_value=0)\n",
    "X_test_encoded = pd.get_dummies(X_test).reindex(columns=all_columns, fill_value=0)\n",
    "\n",
    "# Continue with your code...\n",
    "\n",
    "clf = RandomForestClassifier(random_state=42)\n",
    "\n",
    "# Train the model\n",
    "clf.fit(X_train_encoded, y_train)\n",
    "\n",
    "# Make predictions\n",
    "y_pred = clf.predict(X_test_encoded)\n",
    "\n",
    "# Evaluate the model\n",
    "accuracy = accuracy_score(y_test, y_pred)\n",
    "print(f'Model accuracy: {accuracy}')"
   ]
  }
 ],
 "metadata": {
  "kernelspec": {
   "display_name": "Python 3",
   "language": "python",
   "name": "python3"
  },
  "language_info": {
   "codemirror_mode": {
    "name": "ipython",
    "version": 3
   },
   "file_extension": ".py",
   "mimetype": "text/x-python",
   "name": "python",
   "nbconvert_exporter": "python",
   "pygments_lexer": "ipython3",
   "version": "3.11.4"
  }
 },
 "nbformat": 4,
 "nbformat_minor": 2
}
