{
 "cells": [
  {
   "cell_type": "code",
   "execution_count": 2,
   "metadata": {},
   "outputs": [],
   "source": [
    "import pandas as pd\n",
    "import numpy as np"
   ]
  },
  {
   "cell_type": "code",
   "execution_count": 3,
   "metadata": {},
   "outputs": [],
   "source": [
    "df = pd.read_csv('dataset2.csv')"
   ]
  },
  {
   "cell_type": "code",
   "execution_count": 4,
   "metadata": {},
   "outputs": [],
   "source": [
    "# Convert the data types of the columns as needed\n",
    "df['Fats (g)'] = df['Fats (g)'].astype(float)\n",
    "df['Sugars (g)'] = df['Sugars (g)'].astype(float)\n",
    "df['Carbohydrates (g)'] = df['Carbohydrates (g)'].astype(float)\n",
    "df['Fiber (g)'] = df['Fiber (g)'].astype(float)\n",
    "df['Protein (g)'] = df['Protein (g)'].astype(float)\n",
    "df['Salts (g)'] = df['Salts (g)'].astype(float)\n",
    "df['Energy (kcal)'] = df['Energy (kcal)'].astype(float)\n",
    "df['target'] = df['target'].astype(float)"
   ]
  },
  {
   "cell_type": "code",
   "execution_count": 5,
   "metadata": {},
   "outputs": [
    {
     "name": "stderr",
     "output_type": "stream",
     "text": [
      "c:\\Users\\pavan\\AppData\\Local\\Programs\\Python\\Python311\\Lib\\site-packages\\sklearn\\preprocessing\\_encoders.py:975: FutureWarning: `sparse` was renamed to `sparse_output` in version 1.2 and will be removed in 1.4. `sparse_output` is ignored unless you leave `sparse` to its default value.\n",
      "  warnings.warn(\n"
     ]
    }
   ],
   "source": [
    "from sklearn.preprocessing import OneHotEncoder\n",
    "\n",
    "# Create a OneHotEncoder object\n",
    "one_hot_encoder = OneHotEncoder(sparse=False)\n",
    "\n",
    "# Fit and transform the 'Product Name' column\n",
    "one_hot_encoded = one_hot_encoder.fit_transform(df[['Product Name']])\n",
    "\n",
    "# Create a DataFrame from the one-hot encoded array\n",
    "feature_names = one_hot_encoder.categories_[0]\n",
    "one_hot_df = pd.DataFrame(one_hot_encoded, columns=feature_names)\n",
    "\n",
    "# Concatenate the original DataFrame with the one-hot encoded DataFrame\n",
    "df_encoded = pd.concat([df.drop('Product Name', axis=1), one_hot_df], axis=1)\n",
    "\n",
    "# Now 'Product Name' is one-hot encoded"
   ]
  },
  {
   "cell_type": "code",
   "execution_count": 6,
   "metadata": {},
   "outputs": [],
   "source": [
    "df.to_csv('dataset2.csv.csv', index=False)"
   ]
  },
  {
   "cell_type": "code",
   "execution_count": 7,
   "metadata": {},
   "outputs": [
    {
     "name": "stdout",
     "output_type": "stream",
     "text": [
      "<class 'pandas.core.frame.DataFrame'>\n",
      "RangeIndex: 48 entries, 0 to 47\n",
      "Data columns (total 11 columns):\n",
      " #   Column             Non-Null Count  Dtype  \n",
      "---  ------             --------------  -----  \n",
      " 0   Product Name       48 non-null     object \n",
      " 1   Fats (g)           48 non-null     float64\n",
      " 2   Sugars (g)         48 non-null     float64\n",
      " 3   Carbohydrates (g)  48 non-null     float64\n",
      " 4   Fiber (g)          48 non-null     float64\n",
      " 5   Protein (g)        48 non-null     float64\n",
      " 6   Salts (g)          48 non-null     float64\n",
      " 7   Energy (kcal)      48 non-null     float64\n",
      " 8   Allergies          48 non-null     int64  \n",
      " 9   Diseases           48 non-null     int64  \n",
      " 10  target             48 non-null     float64\n",
      "dtypes: float64(8), int64(2), object(1)\n",
      "memory usage: 4.3+ KB\n"
     ]
    },
    {
     "data": {
      "text/plain": [
       "Allergies  Diseases\n",
       "0          3            1\n",
       "1          2            1\n",
       "2          3            1\n",
       "3          3            3\n",
       "4          3            3\n",
       "5          3            2\n",
       "6          0            1\n",
       "           1            2\n",
       "           3           26\n",
       "           4            1\n",
       "7          3            3\n",
       "8          3            2\n",
       "9          3            2\n",
       "dtype: int64"
      ]
     },
     "execution_count": 7,
     "metadata": {},
     "output_type": "execute_result"
    }
   ],
   "source": [
    "df.info()\n",
    "\n",
    "df.groupby(['Allergies', 'Diseases']).size()"
   ]
  },
  {
   "cell_type": "code",
   "execution_count": 8,
   "metadata": {},
   "outputs": [
    {
     "name": "stdout",
     "output_type": "stream",
     "text": [
      "The following columns have non-numeric data: Index(['Product Name'], dtype='object')\n"
     ]
    }
   ],
   "source": [
    "# Check if there are any non-numeric columns in the DataFrame\n",
    "non_numeric_columns = df.select_dtypes(exclude=['int64', 'float64']).columns\n",
    "\n",
    "if non_numeric_columns.empty:\n",
    "    print(\"All data is properly encoded.\")\n",
    "else:\n",
    "    print(f\"The following columns have non-numeric data: {non_numeric_columns}\")"
   ]
  },
  {
   "cell_type": "code",
   "execution_count": 9,
   "metadata": {},
   "outputs": [
    {
     "name": "stdout",
     "output_type": "stream",
     "text": [
      "Root Mean Squared Error: 1.7831965679643957\n"
     ]
    }
   ],
   "source": [
    "from sklearn.ensemble import RandomForestRegressor\n",
    "from sklearn.model_selection import train_test_split\n",
    "from sklearn.metrics import mean_squared_error\n",
    "import numpy as np\n",
    "# One-hot encode the categorical features\n",
    "df_encoded = pd.get_dummies(df)\n",
    "\n",
    "# Now split the data into features and target variable\n",
    "X = df_encoded.drop('target', axis=1)\n",
    "y = df_encoded['target']\n",
    "\n",
    "# Split the data into training and test sets\n",
    "X_train, X_test, y_train, y_test = train_test_split(X, y, test_size=0.2, random_state=42)\n",
    "\n",
    "# Create a Random Forest Regressor\n",
    "reg = RandomForestRegressor(n_estimators=100, random_state=42)\n",
    "\n",
    "# Train the model\n",
    "reg.fit(X_train, y_train)\n",
    "\n",
    "# Make predictions\n",
    "y_pred = reg.predict(X_test)\n",
    "\n",
    "# Calculate the root mean squared error\n",
    "rmse = np.sqrt(mean_squared_error(y_test, y_pred))\n",
    "\n",
    "print(f'Root Mean Squared Error: {rmse}')"
   ]
  },
  {
   "cell_type": "code",
   "execution_count": null,
   "metadata": {},
   "outputs": [],
   "source": [
    "from sklearn.ensemble import RandomForestRegressor\n",
    "from sklearn.model_selection import GridSearchCV\n",
    "\n",
    "# Define the parameter grid\n",
    "param_grid = {\n",
    "    'n_estimators': [100, 200, 300, 400,500],\n",
    "    'max_depth': [None, 10, 20, 30, 40],\n",
    "    'min_samples_split': [2, 5, 10,20],\n",
    "    'min_samples_leaf': [1, 2, 4, 8, 16],\n",
    "    'bootstrap': [True, False]\n",
    "}\n",
    "\n",
    "# Create a base model\n",
    "rf = RandomForestRegressor()\n",
    "\n",
    "# Instantiate the grid search model\n",
    "grid_search = GridSearchCV(estimator=rf, param_grid=param_grid, cv=3, n_jobs=-1, verbose=2)\n",
    "\n",
    "# Fit the grid search to the data\n",
    "grid_search.fit(X_train, y_train)\n",
    "\n",
    "# Get the best parameters\n",
    "best_params = grid_search.best_params_\n",
    "\n",
    "print(f'Best parameters: {best_params}')"
   ]
  },
  {
   "cell_type": "code",
   "execution_count": null,
   "metadata": {},
   "outputs": [
    {
     "name": "stdout",
     "output_type": "stream",
     "text": [
      "Training RMSE: 1.461768336620691\n",
      "Test RMSE: 1.7356853836232446\n"
     ]
    }
   ],
   "source": [
    "# Create a new model with the best parameters\n",
    "best_rf = RandomForestRegressor(\n",
    "    bootstrap=True,\n",
    "    max_depth=20,\n",
    "    min_samples_leaf=2,\n",
    "    min_samples_split=10,\n",
    "    n_estimators=100,\n",
    "    random_state=42  # for reproducibility\n",
    ")\n",
    "\n",
    "\n",
    "\n",
    "# Train the model\n",
    "best_rf.fit(X_train, y_train)\n",
    "\n",
    "# Make predictions on the training set\n",
    "y_train_pred = best_rf.predict(X_train)\n",
    "\n",
    "# Make predictions on the test set\n",
    "y_test_pred = best_rf.predict(X_test)\n",
    "\n",
    "# Calculate the root mean squared error for the training set\n",
    "rmse_train = np.sqrt(mean_squared_error(y_train, y_train_pred))\n",
    "\n",
    "# Calculate the root mean squared error for the test set\n",
    "rmse_test = np.sqrt(mean_squared_error(y_test, y_test_pred))\n",
    "\n",
    "print(f'Training RMSE: {rmse_train}')\n",
    "print(f'Test RMSE: {rmse_test}')"
   ]
  },
  {
   "cell_type": "code",
   "execution_count": 13,
   "metadata": {},
   "outputs": [
    {
     "name": "stdout",
     "output_type": "stream",
     "text": [
      "Root Mean Squared Error: 1.7831965679643957\n",
      "Training RMSE: 1.6211492836873476\n",
      "Test RMSE: 1.7684032345593588\n",
      "R^2 score: 0.2773204545454546\n"
     ]
    }
   ],
   "source": [
    "# Create a new model with the best parameters\n",
    "from sklearn.metrics import accuracy_score, mean_squared_error, r2_score\n",
    "\n",
    "best_rf = RandomForestRegressor(\n",
    "    bootstrap=False,\n",
    "    max_depth=None,\n",
    "    min_samples_leaf=8,\n",
    "    min_samples_split=20,\n",
    "    n_estimators=100,\n",
    "    random_state=42  # for reproducibility\n",
    ")\n",
    "\n",
    "\n",
    "\n",
    "# Train the model\n",
    "best_rf.fit(X_train, y_train)\n",
    "\n",
    "# Make predictions on the training set\n",
    "y_train_pred = best_rf.predict(X_train)\n",
    "\n",
    "# Make predictions on the test set\n",
    "y_test_pred = best_rf.predict(X_test)\n",
    "\n",
    "# Calculate the root mean squared error for the training set\n",
    "rmse_train = np.sqrt(mean_squared_error(y_train, y_train_pred))\n",
    "\n",
    "# Calculate the root mean squared error for the test set\n",
    "rmse_test = np.sqrt(mean_squared_error(y_test, y_test_pred))\n",
    "\n",
    "rmse = np.sqrt(mean_squared_error(y_test, y_pred))\n",
    "\n",
    "print(f'Root Mean Squared Error: {rmse}')\n",
    "\n",
    "print(f'Training RMSE: {rmse_train}')\n",
    "print(f'Test RMSE: {rmse_test}')\n",
    "\n",
    "# Calculate the R^2 score\n",
    "r2 = r2_score(y_test, y_pred)\n",
    "\n",
    "# Print the R^2 score\n",
    "print(\"R^2 score:\", r2)"
   ]
  },
  {
   "cell_type": "code",
   "execution_count": null,
   "metadata": {},
   "outputs": [
    {
     "name": "stdout",
     "output_type": "stream",
     "text": [
      "Prediction for the new data: [7.9 7.9 7.9 7.9 7.9]\n"
     ]
    }
   ],
   "source": [
    "# Assuming new_data is a DataFrame with the same structure as your training data\n",
    "new_data = pd.DataFrame({\n",
    "    'Product Name': ['Almonds', 'Apple', 'Avocado', 'Black beans (canned)', 'Blackberries'],\n",
    "    'Fats (g)': [2.5, 0.3, 15, 0.5, 0.5],\n",
    "    'Carbohydrates (g)': [23.4, 11.4, 8.5, 7.5, 10.2],\n",
    "    'Sugars (g)': [2.5, 10.4, 0.7, 0.0, 4.9],\n",
    "    'Protein (g)': [1.5, 0.3, 2.0, 1.5, 1.4],\n",
    "    'Energy (kcal)': [100, 52, 160, 90, 43],\n",
    "    'Allergies': [0, 0, 0, 0, 0],\n",
    "    'Diseases': [0, 0, 0, 0, 0],\n",
    "    'Fiber (g)': [0, 2.4, 6.7, 6.0, 5.3],\n",
    "})\n",
    "\n",
    "# One-hot encode the 'Product Name' column\n",
    "new_data_encoded = pd.get_dummies(new_data, columns=['Product Name'])\n",
    "\n",
    "# Make sure the new data has the same columns as the training data\n",
    "missing_cols = set(X_train.columns) - set(new_data_encoded.columns)\n",
    "for c in missing_cols:\n",
    "    new_data_encoded[c] = 0\n",
    "new_data_encoded = new_data_encoded[X_train.columns]\n",
    "\n",
    "# Now you can use the encoded data to make a prediction\n",
    "new_pred = best_rf.predict(new_data_encoded)\n",
    "\n",
    "print(f'Prediction for the new data: {new_pred}')"
   ]
  }
 ],
 "metadata": {
  "kernelspec": {
   "display_name": "Python 3",
   "language": "python",
   "name": "python3"
  },
  "language_info": {
   "codemirror_mode": {
    "name": "ipython",
    "version": 3
   },
   "file_extension": ".py",
   "mimetype": "text/x-python",
   "name": "python",
   "nbconvert_exporter": "python",
   "pygments_lexer": "ipython3",
   "version": "3.11.4"
  }
 },
 "nbformat": 4,
 "nbformat_minor": 2
}
