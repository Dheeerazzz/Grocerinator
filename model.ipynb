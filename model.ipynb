{
 "cells": [
  {
   "cell_type": "code",
   "execution_count": 12,
   "metadata": {},
   "outputs": [],
   "source": [
    "import pandas as pd\n",
    "import numpy as np"
   ]
  },
  {
   "cell_type": "code",
   "execution_count": 13,
   "metadata": {},
   "outputs": [],
   "source": [
    "df = pd.read_csv('./new_data.csv')"
   ]
  },
  {
   "cell_type": "code",
   "execution_count": 14,
   "metadata": {},
   "outputs": [
    {
     "data": {
      "text/plain": [
       "Index(['Energy', 'Fat', 'Saturated Fat', 'Carbohydrates', 'Sugars', 'Fiber',\n",
       "       'Proteins', 'Salt', 'Baby Rating', 'Adult Rating', 'Elderly Rating'],\n",
       "      dtype='object')"
      ]
     },
     "execution_count": 14,
     "metadata": {},
     "output_type": "execute_result"
    }
   ],
   "source": [
    "df.columns"
   ]
  },
  {
   "cell_type": "code",
   "execution_count": 15,
   "metadata": {},
   "outputs": [],
   "source": [
    "df['Energy'] = df['Energy'].astype(float)\n",
    "df['Fat'] = df['Fat'].astype(float)\n",
    "df['Saturated Fat'] = df['Saturated Fat'].astype(float)\n",
    "df['Carbohydrates'] = df['Carbohydrates'].astype(float)\n",
    "df['Sugars'] = df['Sugars'].astype(float)\n",
    "df['Fiber'] = df['Fiber'].astype(float)\n",
    "df['Proteins'] = df['Proteins'].astype(float)\n",
    "df['Salt'] = df['Salt'].astype(float)\n",
    "df['Baby Rating'] = df['Baby Rating'].astype(float)\n",
    "df['Adult Rating'] = df['Adult Rating'].astype(float)\n",
    "df['Elderly Rating'] = df['Elderly Rating'].astype(float)"
   ]
  },
  {
   "cell_type": "code",
   "execution_count": 16,
   "metadata": {},
   "outputs": [
    {
     "name": "stdout",
     "output_type": "stream",
     "text": [
      "<class 'pandas.core.frame.DataFrame'>\n",
      "RangeIndex: 35 entries, 0 to 34\n",
      "Data columns (total 11 columns):\n",
      " #   Column          Non-Null Count  Dtype  \n",
      "---  ------          --------------  -----  \n",
      " 0   Energy          35 non-null     float64\n",
      " 1   Fat             35 non-null     float64\n",
      " 2   Saturated Fat   35 non-null     float64\n",
      " 3   Carbohydrates   35 non-null     float64\n",
      " 4   Sugars          35 non-null     float64\n",
      " 5   Fiber           35 non-null     float64\n",
      " 6   Proteins        35 non-null     float64\n",
      " 7   Salt            35 non-null     float64\n",
      " 8   Baby Rating     35 non-null     float64\n",
      " 9   Adult Rating    35 non-null     float64\n",
      " 10  Elderly Rating  35 non-null     float64\n",
      "dtypes: float64(11)\n",
      "memory usage: 3.1 KB\n"
     ]
    }
   ],
   "source": [
    "df.info()"
   ]
  },
  {
   "cell_type": "code",
   "execution_count": 20,
   "metadata": {},
   "outputs": [],
   "source": [
    "from sklearn.ensemble import RandomForestRegressor\n",
    "from sklearn.model_selection import train_test_split\n",
    "from sklearn.metrics import mean_squared_error\n",
    "import numpy as np\n",
    "\n",
    "X = df.drop(['Baby Rating', 'Adult Rating', 'Elderly Rating'], axis=1)\n",
    "y1 = df['Baby Rating']\n",
    "y2 = df['Adult Rating']\n",
    "y3 = df['Elderly Rating']\n",
    "X_train1, X_test1, y_train1, y_test1 = train_test_split(X, y1, test_size=0.2, random_state=42)\n",
    "X_train2, X_test2, y_train2, y_test2 = train_test_split(X, y2, test_size=0.2, random_state=42)\n",
    "X_train3, X_test3, y_train3, y_test3 = train_test_split(X, y3, test_size=0.2, random_state=42)"
   ]
  },
  {
   "cell_type": "code",
   "execution_count": 21,
   "metadata": {},
   "outputs": [],
   "source": [
    "reg = RandomForestRegressor(n_estimators=100, random_state=42)\n",
    "\n",
    "reg.fit(X_train1, y_train1)\n",
    "\n",
    "y_pred1 = reg.predict(X_test1)"
   ]
  },
  {
   "cell_type": "code",
   "execution_count": 22,
   "metadata": {},
   "outputs": [
    {
     "name": "stdout",
     "output_type": "stream",
     "text": [
      "Root Mean Squared Error: 1.2622372428124824\n"
     ]
    }
   ],
   "source": [
    "\n",
    "rmse = np.sqrt(mean_squared_error(y_test1, y_pred))\n",
    "\n",
    "print(f'Root Mean Squared Error: {rmse}')"
   ]
  },
  {
   "cell_type": "code",
   "execution_count": null,
   "metadata": {},
   "outputs": [],
   "source": [
    "from sklearn.ensemble import RandomForestRegressor\n",
    "from sklearn.model_selection import GridSearchCV\n",
    "\n",
    "# Define the parameter grid\n",
    "param_grid = {\n",
    "    'n_estimators': [100, 200, 300, 400,500],\n",
    "    'max_depth': [None, 10, 20, 30, 40],\n",
    "    'min_samples_split': [2, 5, 10,20],\n",
    "    'min_samples_leaf': [1, 2, 4, 8, 16],\n",
    "    'bootstrap': [True, False]\n",
    "}\n",
    "\n",
    "# Create a base model\n",
    "rf = RandomForestRegressor()\n",
    "\n",
    "# Instantiate the grid search model\n",
    "grid_search = GridSearchCV(estimator=rf, param_grid=param_grid, cv=3, n_jobs=-1, verbose=2)\n",
    "\n",
    "# Fit the grid search to the data\n",
    "grid_search.fit(X_train, y_train)\n",
    "\n",
    "# Get the best parameters\n",
    "best_params = grid_search.best_params_\n",
    "\n",
    "print(f'Best parameters: {best_params}')"
   ]
  },
  {
   "cell_type": "code",
   "execution_count": null,
   "metadata": {},
   "outputs": [
    {
     "name": "stdout",
     "output_type": "stream",
     "text": [
      "Training RMSE: 1.461768336620691\n",
      "Test RMSE: 1.7356853836232446\n"
     ]
    }
   ],
   "source": [
    "# Create a new model with the best parameters\n",
    "best_rf = RandomForestRegressor(\n",
    "    bootstrap=True,\n",
    "    max_depth=20,\n",
    "    min_samples_leaf=2,\n",
    "    min_samples_split=10,\n",
    "    n_estimators=100,\n",
    "    random_state=42  # for reproducibility\n",
    ")\n",
    "\n",
    "\n",
    "\n",
    "# Train the model\n",
    "best_rf.fit(X_train, y_train)\n",
    "\n",
    "# Make predictions on the training set\n",
    "y_train_pred = best_rf.predict(X_train)\n",
    "\n",
    "# Make predictions on the test set\n",
    "y_test_pred = best_rf.predict(X_test)\n",
    "\n",
    "# Calculate the root mean squared error for the training set\n",
    "rmse_train = np.sqrt(mean_squared_error(y_train, y_train_pred))\n",
    "\n",
    "# Calculate the root mean squared error for the test set\n",
    "rmse_test = np.sqrt(mean_squared_error(y_test, y_test_pred))\n",
    "\n",
    "print(f'Training RMSE: {rmse_train}')\n",
    "print(f'Test RMSE: {rmse_test}')"
   ]
  },
  {
   "cell_type": "code",
   "execution_count": 13,
   "metadata": {},
   "outputs": [
    {
     "name": "stdout",
     "output_type": "stream",
     "text": [
      "Root Mean Squared Error: 1.7831965679643957\n",
      "Training RMSE: 1.6211492836873476\n",
      "Test RMSE: 1.7684032345593588\n",
      "R^2 score: 0.2773204545454546\n"
     ]
    }
   ],
   "source": [
    "# Create a new model with the best parameters\n",
    "from sklearn.metrics import accuracy_score, mean_squared_error, r2_score\n",
    "\n",
    "best_rf = RandomForestRegressor(\n",
    "    bootstrap=False,\n",
    "    max_depth=None,\n",
    "    min_samples_leaf=8,\n",
    "    min_samples_split=20,\n",
    "    n_estimators=100,\n",
    "    random_state=42  # for reproducibility\n",
    ")\n",
    "\n",
    "\n",
    "\n",
    "# Train the model\n",
    "best_rf.fit(X_train, y_train)\n",
    "\n",
    "# Make predictions on the training set\n",
    "y_train_pred = best_rf.predict(X_train)\n",
    "\n",
    "# Make predictions on the test set\n",
    "y_test_pred = best_rf.predict(X_test)\n",
    "\n",
    "# Calculate the root mean squared error for the training set\n",
    "rmse_train = np.sqrt(mean_squared_error(y_train, y_train_pred))\n",
    "\n",
    "# Calculate the root mean squared error for the test set\n",
    "rmse_test = np.sqrt(mean_squared_error(y_test, y_test_pred))\n",
    "\n",
    "rmse = np.sqrt(mean_squared_error(y_test, y_pred))\n",
    "\n",
    "print(f'Root Mean Squared Error: {rmse}')\n",
    "\n",
    "print(f'Training RMSE: {rmse_train}')\n",
    "print(f'Test RMSE: {rmse_test}')\n",
    "\n",
    "# Calculate the R^2 score\n",
    "r2 = r2_score(y_test, y_pred)\n",
    "\n",
    "# Print the R^2 score\n",
    "print(\"R^2 score:\", r2)"
   ]
  },
  {
   "cell_type": "code",
   "execution_count": null,
   "metadata": {},
   "outputs": [
    {
     "name": "stdout",
     "output_type": "stream",
     "text": [
      "Prediction for the new data: [7.9 7.9 7.9 7.9 7.9]\n"
     ]
    }
   ],
   "source": [
    "# Assuming new_data is a DataFrame with the same structure as your training data\n",
    "new_data = pd.DataFrame({\n",
    "    'Product Name': ['Almonds', 'Apple', 'Avocado', 'Black beans (canned)', 'Blackberries'],\n",
    "    'Fats (g)': [2.5, 0.3, 15, 0.5, 0.5],\n",
    "    'Carbohydrates (g)': [23.4, 11.4, 8.5, 7.5, 10.2],\n",
    "    'Sugars (g)': [2.5, 10.4, 0.7, 0.0, 4.9],\n",
    "    'Protein (g)': [1.5, 0.3, 2.0, 1.5, 1.4],\n",
    "    'Energy (kcal)': [100, 52, 160, 90, 43],\n",
    "    'Allergies': [0, 0, 0, 0, 0],\n",
    "    'Diseases': [0, 0, 0, 0, 0],\n",
    "    'Fiber (g)': [0, 2.4, 6.7, 6.0, 5.3],\n",
    "})\n",
    "\n",
    "# One-hot encode the 'Product Name' column\n",
    "new_data_encoded = pd.get_dummies(new_data, columns=['Product Name'])\n",
    "\n",
    "# Make sure the new data has the same columns as the training data\n",
    "missing_cols = set(X_train.columns) - set(new_data_encoded.columns)\n",
    "for c in missing_cols:\n",
    "    new_data_encoded[c] = 0\n",
    "new_data_encoded = new_data_encoded[X_train.columns]\n",
    "\n",
    "# Now you can use the encoded data to make a prediction\n",
    "new_pred = best_rf.predict(new_data_encoded)\n",
    "\n",
    "print(f'Prediction for the new data: {new_pred}')"
   ]
  }
 ],
 "metadata": {
  "kernelspec": {
   "display_name": "Python 3",
   "language": "python",
   "name": "python3"
  },
  "language_info": {
   "codemirror_mode": {
    "name": "ipython",
    "version": 3
   },
   "file_extension": ".py",
   "mimetype": "text/x-python",
   "name": "python",
   "nbconvert_exporter": "python",
   "pygments_lexer": "ipython3",
   "version": "3.10.10"
  }
 },
 "nbformat": 4,
 "nbformat_minor": 2
}
