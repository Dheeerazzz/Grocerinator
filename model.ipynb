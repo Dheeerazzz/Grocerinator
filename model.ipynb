{
 "cells": [
  {
   "cell_type": "code",
   "execution_count": 58,
   "metadata": {},
   "outputs": [],
   "source": [
    "import pandas as pd\n",
    "import numpy as np"
   ]
  },
  {
   "cell_type": "code",
   "execution_count": 59,
   "metadata": {},
   "outputs": [],
   "source": [
    "df = pd.read_csv('./testdata.csv')"
   ]
  },
  {
   "cell_type": "code",
   "execution_count": 60,
   "metadata": {},
   "outputs": [
    {
     "data": {
      "text/plain": [
       "Index(['Energy', 'Fat', 'Saturated Fat', 'Carbohydrates', 'Sugars', 'Fiber',\n",
       "       'Proteins', 'Salt', 'Baby Rating', 'Adult Rating', 'Elderly Rating'],\n",
       "      dtype='object')"
      ]
     },
     "execution_count": 60,
     "metadata": {},
     "output_type": "execute_result"
    }
   ],
   "source": [
    "df.columns"
   ]
  },
  {
   "cell_type": "code",
   "execution_count": 61,
   "metadata": {},
   "outputs": [],
   "source": [
    "df['Energy'] = df['Energy'].astype(float)\n",
    "df['Fat'] = df['Fat'].astype(float)\n",
    "df['Saturated Fat'] = df['Saturated Fat'].astype(float)\n",
    "df['Carbohydrates'] = df['Carbohydrates'].astype(float)\n",
    "df['Sugars'] = df['Sugars'].astype(float)\n",
    "df['Fiber'] = df['Fiber'].astype(float)\n",
    "df['Proteins'] = df['Proteins'].astype(float)\n",
    "df['Salt'] = df['Salt'].astype(float)\n",
    "df['Baby Rating'] = df['Baby Rating'].astype(float)\n",
    "df['Adult Rating'] = df['Adult Rating'].astype(float)\n",
    "df['Elderly Rating'] = df['Elderly Rating'].astype(float)"
   ]
  },
  {
   "cell_type": "code",
   "execution_count": 62,
   "metadata": {},
   "outputs": [
    {
     "name": "stdout",
     "output_type": "stream",
     "text": [
      "<class 'pandas.core.frame.DataFrame'>\n",
      "RangeIndex: 55 entries, 0 to 54\n",
      "Data columns (total 11 columns):\n",
      " #   Column          Non-Null Count  Dtype  \n",
      "---  ------          --------------  -----  \n",
      " 0   Energy          55 non-null     float64\n",
      " 1   Fat             55 non-null     float64\n",
      " 2   Saturated Fat   55 non-null     float64\n",
      " 3   Carbohydrates   55 non-null     float64\n",
      " 4   Sugars          55 non-null     float64\n",
      " 5   Fiber           55 non-null     float64\n",
      " 6   Proteins        55 non-null     float64\n",
      " 7   Salt            55 non-null     float64\n",
      " 8   Baby Rating     55 non-null     float64\n",
      " 9   Adult Rating    55 non-null     float64\n",
      " 10  Elderly Rating  55 non-null     float64\n",
      "dtypes: float64(11)\n",
      "memory usage: 4.9 KB\n"
     ]
    }
   ],
   "source": [
    "df.info()"
   ]
  },
  {
   "cell_type": "code",
   "execution_count": 63,
   "metadata": {},
   "outputs": [],
   "source": [
    "from sklearn.ensemble import RandomForestRegressor\n",
    "from sklearn.model_selection import train_test_split\n",
    "from sklearn.metrics import mean_squared_error\n",
    "import numpy as np\n",
    "\n",
    "X = df.drop(['Baby Rating', 'Adult Rating', 'Elderly Rating'], axis=1)\n",
    "y1 = df['Baby Rating']\n",
    "y2 = df['Adult Rating']\n",
    "y3 = df['Elderly Rating']\n",
    "X_train1, X_test1, y_train1, y_test1 = train_test_split(X, y1, test_size=0.2, random_state=42)\n",
    "X_train2, X_test2, y_train2, y_test2 = train_test_split(X, y2, test_size=0.2, random_state=42)\n",
    "X_train3, X_test3, y_train3, y_test3 = train_test_split(X, y3, test_size=0.2, random_state=42)"
   ]
  },
  {
   "cell_type": "code",
   "execution_count": 64,
   "metadata": {},
   "outputs": [],
   "source": [
    "reg = RandomForestRegressor(n_estimators=100, random_state=42)\n",
    "\n",
    "reg.fit(X_train1, y_train1)\n",
    "\n",
    "y_pred1 = reg.predict(X_test1)"
   ]
  },
  {
   "cell_type": "code",
   "execution_count": 65,
   "metadata": {},
   "outputs": [
    {
     "name": "stdout",
     "output_type": "stream",
     "text": [
      "Root Mean Squared Error: 1.424260573707698\n"
     ]
    }
   ],
   "source": [
    "\n",
    "rmse = np.sqrt(mean_squared_error(y_test1, y_pred1))\n",
    "\n",
    "print(f'Root Mean Squared Error: {rmse}')"
   ]
  },
  {
   "cell_type": "code",
   "execution_count": 66,
   "metadata": {},
   "outputs": [],
   "source": [
    "# from sklearn.ensemble import RandomForestRegressor\n",
    "# from sklearn.model_selection import GridSearchCV\n",
    "\n",
    "# # Define the parameter grid\n",
    "# param_grid = {\n",
    "#     'n_estimators': [100, 200, 300, 400,500],\n",
    "#     'max_depth': [None, 10, 20, 30, 40],\n",
    "#     'min_samples_split': [2, 5, 10,20],\n",
    "#     'min_samples_leaf': [1, 2, 4, 8, 16],\n",
    "#     'bootstrap': [True, False]\n",
    "# }\n",
    "\n",
    "# # Create a base model\n",
    "# rf = RandomForestRegressor()\n",
    "\n",
    "# # Instantiate the grid search model\n",
    "# grid_search = GridSearchCV(estimator=rf, param_grid=param_grid, cv=3, n_jobs=-1, verbose=2)\n",
    "\n",
    "# # Fit the grid search to the data\n",
    "# grid_search.fit(X_train1, y_train1)\n",
    "\n",
    "# # Get the best parameters\n",
    "# best_params = grid_search.best_params_\n",
    "\n",
    "# print(f'Best parameters: {best_params}')"
   ]
  },
  {
   "cell_type": "code",
   "execution_count": 67,
   "metadata": {},
   "outputs": [
    {
     "name": "stdout",
     "output_type": "stream",
     "text": [
      "Training RMSE: 0.6258858389779913\n",
      "Test RMSE: 1.5149371825436146\n",
      "R^2 score: 0.6665072010869566\n"
     ]
    }
   ],
   "source": [
    "# Create a new model with the best parameters\n",
    "\n",
    "from sklearn.metrics import r2_score\n",
    "best_rf = RandomForestRegressor(\n",
    "    bootstrap=True,\n",
    "    max_depth=40,\n",
    "    min_samples_leaf=2,\n",
    "    min_samples_split=2,\n",
    "    n_estimators=100,\n",
    "    random_state=42  # for reproducibility\n",
    ")\n",
    "\n",
    "\n",
    "\n",
    "# Train the model\n",
    "best_rf.fit(X_train1, y_train1)\n",
    "\n",
    "# Make predictions on the training set\n",
    "y_train_pred = best_rf.predict(X_train1)\n",
    "\n",
    "# Make predictions on the test set\n",
    "y_test_pred = best_rf.predict(X_test1)\n",
    "\n",
    "# Calculate the root mean squared error for the training set\n",
    "rmse_train = np.sqrt(mean_squared_error(y_train1, y_train_pred))\n",
    "\n",
    "# Calculate the root mean squared error for the test set\n",
    "rmse_test = np.sqrt(mean_squared_error(y_test1, y_test_pred))\n",
    "\n",
    "print(f'Training RMSE: {rmse_train}')\n",
    "print(f'Test RMSE: {rmse_test}')\n",
    "\n",
    "# Calculate the R^2 score\n",
    "r2 = r2_score(y_test1, y_pred1)\n",
    "\n",
    "# Print the R^2 score\n",
    "print(\"R^2 score:\", r2)"
   ]
  },
  {
   "cell_type": "code",
   "execution_count": 57,
   "metadata": {},
   "outputs": [
    {
     "name": "stdout",
     "output_type": "stream",
     "text": [
      "Root Mean Squared Error: 1.4188849905058343\n",
      "R^2 score: 0.6690198524861254\n"
     ]
    }
   ],
   "source": [
    "from sklearn.linear_model import LinearRegression\n",
    "\n",
    "# Create an instance of the LinearRegression model\n",
    "model = LinearRegression()\n",
    "\n",
    "# Fit the model to the training data\n",
    "model.fit(X_train1, y_train1)\n",
    "\n",
    "# Make predictions on the test data\n",
    "y_pred = model.predict(X_test1)\n",
    "\n",
    "# Calculate the root mean squared error\n",
    "rmse = np.sqrt(mean_squared_error(y_test1, y_pred))\n",
    "\n",
    "# Print the root mean squared error\n",
    "print(f'Root Mean Squared Error: {rmse}')\n",
    "\n",
    "r2 = r2_score(y_test1, y_pred)\n",
    "\n",
    "# Print the R^2 score\n",
    "print(\"R^2 score:\", r2)"
   ]
  },
  {
   "cell_type": "code",
   "execution_count": 68,
   "metadata": {},
   "outputs": [
    {
     "name": "stderr",
     "output_type": "stream",
     "text": [
      "c:\\Users\\pavan\\AppData\\Local\\Programs\\Python\\Python311\\Lib\\site-packages\\sklearn\\base.py:465: UserWarning: X does not have valid feature names, but RandomForestRegressor was fitted with feature names\n",
      "  warnings.warn(\n"
     ]
    },
    {
     "data": {
      "text/plain": [
       "array([7.13278571])"
      ]
     },
     "execution_count": 68,
     "metadata": {},
     "output_type": "execute_result"
    }
   ],
   "source": [
    "best_rf.predict([[2473,92.52,31.244,172.45,45.21,8.9,103.03,0.2]])"
   ]
  },
  {
   "cell_type": "code",
   "execution_count": null,
   "metadata": {},
   "outputs": [],
   "source": []
  },
  {
   "cell_type": "code",
   "execution_count": null,
   "metadata": {},
   "outputs": [],
   "source": []
  }
 ],
 "metadata": {
  "kernelspec": {
   "display_name": "Python 3",
   "language": "python",
   "name": "python3"
  },
  "language_info": {
   "codemirror_mode": {
    "name": "ipython",
    "version": 3
   },
   "file_extension": ".py",
   "mimetype": "text/x-python",
   "name": "python",
   "nbconvert_exporter": "python",
   "pygments_lexer": "ipython3",
   "version": "3.10.10"
  }
 },
 "nbformat": 4,
 "nbformat_minor": 2
}
